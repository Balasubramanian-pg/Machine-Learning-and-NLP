{
 "cells": [
  {
   "cell_type": "code",
   "execution_count": null,
   "metadata": {},
   "outputs": [],
   "source": [
    "import pandas as pd\n",
    "import time\n",
    "from selenium import webdriver\n",
    "from webdriver_manager.chrome import ChromeDriverManager\n",
    "from selenium.webdriver.common.by import By\n",
    "from selenium.webdriver.chrome.service import Service\n",
    "from selenium.webdriver.chrome.options import Options\n",
    "import matplotlib.pyplot as plt\n",
    "import os\n",
    "import logging"
   ]
  },
  {
   "attachments": {},
   "cell_type": "markdown",
   "metadata": {},
   "source": [
    "# Full Code"
   ]
  },
  {
   "cell_type": "code",
   "execution_count": null,
   "metadata": {},
   "outputs": [],
   "source": [
    "## Setup chrome options\n",
    "chrome_options = Options()\n",
    "chrome_options.add_argument(\"--headless\") # Ensure GUI is off\n",
    "chrome_options.add_argument(\"--no-sandbox\")\n",
    "\n",
    "# Silent download of drivers\n",
    "logging.getLogger('WDM').setLevel(logging.NOTSET)\n",
    "os.environ['WDM_LOG'] = 'False'\n",
    "\n",
    "# Create service\n",
    "webdriver_service = Service(ChromeDriverManager().install())\n",
    "\n",
    "# Create driver\n",
    "driver = webdriver.Chrome(service = webdriver_service, options = chrome_options)\n",
    "\n",
    "# Go to the characters in books page\n",
    "page_url = \"https://witcher.fandom.com/wiki/Category:Characters_in_the_stories\"\n",
    "driver.get(page_url)\n",
    "\n",
    "# # Click on Accept cookies\n",
    "# time.sleep(3)\n",
    "# driver.find_element(By.XPATH, '//div[text()=\"ACCEPT\"]').click()\n",
    "\n",
    "# Find books\n",
    "book_categories = driver.find_elements(by=By.CLASS_NAME, value='category-page__member-link')\n",
    "\n",
    "books = []\n",
    "for category in book_categories:\n",
    "    book_url = category.get_attribute('href')\n",
    "    book_name = category.text\n",
    "    books.append({'book_name': book_name, \"url\": book_url})"
   ]
  },
  {
   "cell_type": "code",
   "execution_count": null,
   "metadata": {},
   "outputs": [],
   "source": [
    "books"
   ]
  },
  {
   "cell_type": "code",
   "execution_count": null,
   "metadata": {},
   "outputs": [],
   "source": [
    "character_list = []\n",
    "\n",
    "for book in books:\n",
    "    # go to book page\n",
    "    driver.get(book['url'])\n",
    "    \n",
    "    character_elems = driver.find_elements(by=By.CLASS_NAME, value = 'category-page__member-link')\n",
    "    \n",
    "    for elem in character_elems:\n",
    "        character_list.append({'book': book['book_name'],'character': elem.text})"
   ]
  },
  {
   "cell_type": "code",
   "execution_count": null,
   "metadata": {},
   "outputs": [],
   "source": [
    "pd.DataFrame(character_list)"
   ]
  },
  {
   "attachments": {},
   "cell_type": "markdown",
   "metadata": {},
   "source": [
    "# Number of characters of per book"
   ]
  },
  {
   "cell_type": "code",
   "execution_count": null,
   "metadata": {},
   "outputs": [],
   "source": [
    "character_df = pd.DataFrame(character_list)\n",
    "\n",
    "character_df['book'].value_counts().plot(kind=\"bar\")\n",
    "plt.show()"
   ]
  }
 ],
 "metadata": {
  "language_info": {
   "name": "python"
  },
  "orig_nbformat": 4
 },
 "nbformat": 4,
 "nbformat_minor": 2
}
