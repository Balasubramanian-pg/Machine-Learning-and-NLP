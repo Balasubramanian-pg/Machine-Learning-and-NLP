{
 "cells": [
  {
   "cell_type": "markdown",
   "id": "6d652ed5",
   "metadata": {
    "papermill": {
     "duration": 0.006661,
     "end_time": "2023-02-27T16:07:03.783368",
     "exception": false,
     "start_time": "2023-02-27T16:07:03.776707",
     "status": "completed"
    },
    "tags": []
   },
   "source": [
    "predict whether the tweet is about disaster or not"
   ]
  },
  {
   "cell_type": "code",
   "execution_count": 1,
   "id": "e10eb8a9",
   "metadata": {
    "execution": {
     "iopub.execute_input": "2023-02-27T16:07:03.797299Z",
     "iopub.status.busy": "2023-02-27T16:07:03.796744Z",
     "iopub.status.idle": "2023-02-27T16:07:03.809080Z",
     "shell.execute_reply": "2023-02-27T16:07:03.808218Z"
    },
    "papermill": {
     "duration": 0.022555,
     "end_time": "2023-02-27T16:07:03.811655",
     "exception": false,
     "start_time": "2023-02-27T16:07:03.789100",
     "status": "completed"
    },
    "tags": []
   },
   "outputs": [],
   "source": [
    "import numpy as np\n",
    "import pandas as pd\n",
    "import matplotlib.pyplot as plt"
   ]
  },
  {
   "cell_type": "code",
   "execution_count": 2,
   "id": "63af865b",
   "metadata": {
    "execution": {
     "iopub.execute_input": "2023-02-27T16:07:03.825796Z",
     "iopub.status.busy": "2023-02-27T16:07:03.824804Z",
     "iopub.status.idle": "2023-02-27T16:07:03.967049Z",
     "shell.execute_reply": "2023-02-27T16:07:03.965873Z"
    },
    "papermill": {
     "duration": 0.152092,
     "end_time": "2023-02-27T16:07:03.969848",
     "exception": false,
     "start_time": "2023-02-27T16:07:03.817756",
     "status": "completed"
    },
    "tags": []
   },
   "outputs": [],
   "source": [
    "train = pd.read_csv('/kaggle/input/nlp-getting-started/train.csv')\n",
    "test = pd.read_csv('/kaggle/input/nlp-getting-started/test.csv')"
   ]
  },
  {
   "cell_type": "code",
   "execution_count": 3,
   "id": "385cb711",
   "metadata": {
    "execution": {
     "iopub.execute_input": "2023-02-27T16:07:03.983144Z",
     "iopub.status.busy": "2023-02-27T16:07:03.982741Z",
     "iopub.status.idle": "2023-02-27T16:07:04.013355Z",
     "shell.execute_reply": "2023-02-27T16:07:04.012067Z"
    },
    "papermill": {
     "duration": 0.040694,
     "end_time": "2023-02-27T16:07:04.016260",
     "exception": false,
     "start_time": "2023-02-27T16:07:03.975566",
     "status": "completed"
    },
    "tags": []
   },
   "outputs": [
    {
     "data": {
      "text/html": [
       "<div>\n",
       "<style scoped>\n",
       "    .dataframe tbody tr th:only-of-type {\n",
       "        vertical-align: middle;\n",
       "    }\n",
       "\n",
       "    .dataframe tbody tr th {\n",
       "        vertical-align: top;\n",
       "    }\n",
       "\n",
       "    .dataframe thead th {\n",
       "        text-align: right;\n",
       "    }\n",
       "</style>\n",
       "<table border=\"1\" class=\"dataframe\">\n",
       "  <thead>\n",
       "    <tr style=\"text-align: right;\">\n",
       "      <th></th>\n",
       "      <th>id</th>\n",
       "      <th>keyword</th>\n",
       "      <th>location</th>\n",
       "      <th>text</th>\n",
       "      <th>target</th>\n",
       "    </tr>\n",
       "  </thead>\n",
       "  <tbody>\n",
       "    <tr>\n",
       "      <th>0</th>\n",
       "      <td>1</td>\n",
       "      <td>NaN</td>\n",
       "      <td>NaN</td>\n",
       "      <td>Our Deeds are the Reason of this #earthquake M...</td>\n",
       "      <td>1</td>\n",
       "    </tr>\n",
       "    <tr>\n",
       "      <th>1</th>\n",
       "      <td>4</td>\n",
       "      <td>NaN</td>\n",
       "      <td>NaN</td>\n",
       "      <td>Forest fire near La Ronge Sask. Canada</td>\n",
       "      <td>1</td>\n",
       "    </tr>\n",
       "    <tr>\n",
       "      <th>2</th>\n",
       "      <td>5</td>\n",
       "      <td>NaN</td>\n",
       "      <td>NaN</td>\n",
       "      <td>All residents asked to 'shelter in place' are ...</td>\n",
       "      <td>1</td>\n",
       "    </tr>\n",
       "    <tr>\n",
       "      <th>3</th>\n",
       "      <td>6</td>\n",
       "      <td>NaN</td>\n",
       "      <td>NaN</td>\n",
       "      <td>13,000 people receive #wildfires evacuation or...</td>\n",
       "      <td>1</td>\n",
       "    </tr>\n",
       "    <tr>\n",
       "      <th>4</th>\n",
       "      <td>7</td>\n",
       "      <td>NaN</td>\n",
       "      <td>NaN</td>\n",
       "      <td>Just got sent this photo from Ruby #Alaska as ...</td>\n",
       "      <td>1</td>\n",
       "    </tr>\n",
       "  </tbody>\n",
       "</table>\n",
       "</div>"
      ],
      "text/plain": [
       "   id keyword location                                               text  \\\n",
       "0   1     NaN      NaN  Our Deeds are the Reason of this #earthquake M...   \n",
       "1   4     NaN      NaN             Forest fire near La Ronge Sask. Canada   \n",
       "2   5     NaN      NaN  All residents asked to 'shelter in place' are ...   \n",
       "3   6     NaN      NaN  13,000 people receive #wildfires evacuation or...   \n",
       "4   7     NaN      NaN  Just got sent this photo from Ruby #Alaska as ...   \n",
       "\n",
       "   target  \n",
       "0       1  \n",
       "1       1  \n",
       "2       1  \n",
       "3       1  \n",
       "4       1  "
      ]
     },
     "execution_count": 3,
     "metadata": {},
     "output_type": "execute_result"
    }
   ],
   "source": [
    "train.head()"
   ]
  },
  {
   "cell_type": "code",
   "execution_count": 4,
   "id": "ba458f3f",
   "metadata": {
    "execution": {
     "iopub.execute_input": "2023-02-27T16:07:04.030710Z",
     "iopub.status.busy": "2023-02-27T16:07:04.030245Z",
     "iopub.status.idle": "2023-02-27T16:07:04.046456Z",
     "shell.execute_reply": "2023-02-27T16:07:04.045352Z"
    },
    "papermill": {
     "duration": 0.026693,
     "end_time": "2023-02-27T16:07:04.049112",
     "exception": false,
     "start_time": "2023-02-27T16:07:04.022419",
     "status": "completed"
    },
    "tags": []
   },
   "outputs": [
    {
     "data": {
      "text/html": [
       "<div>\n",
       "<style scoped>\n",
       "    .dataframe tbody tr th:only-of-type {\n",
       "        vertical-align: middle;\n",
       "    }\n",
       "\n",
       "    .dataframe tbody tr th {\n",
       "        vertical-align: top;\n",
       "    }\n",
       "\n",
       "    .dataframe thead th {\n",
       "        text-align: right;\n",
       "    }\n",
       "</style>\n",
       "<table border=\"1\" class=\"dataframe\">\n",
       "  <thead>\n",
       "    <tr style=\"text-align: right;\">\n",
       "      <th></th>\n",
       "      <th>id</th>\n",
       "      <th>text</th>\n",
       "      <th>target</th>\n",
       "    </tr>\n",
       "  </thead>\n",
       "  <tbody>\n",
       "    <tr>\n",
       "      <th>0</th>\n",
       "      <td>1</td>\n",
       "      <td>Our Deeds are the Reason of this #earthquake M...</td>\n",
       "      <td>1</td>\n",
       "    </tr>\n",
       "    <tr>\n",
       "      <th>1</th>\n",
       "      <td>4</td>\n",
       "      <td>Forest fire near La Ronge Sask. Canada</td>\n",
       "      <td>1</td>\n",
       "    </tr>\n",
       "    <tr>\n",
       "      <th>2</th>\n",
       "      <td>5</td>\n",
       "      <td>All residents asked to 'shelter in place' are ...</td>\n",
       "      <td>1</td>\n",
       "    </tr>\n",
       "    <tr>\n",
       "      <th>3</th>\n",
       "      <td>6</td>\n",
       "      <td>13,000 people receive #wildfires evacuation or...</td>\n",
       "      <td>1</td>\n",
       "    </tr>\n",
       "    <tr>\n",
       "      <th>4</th>\n",
       "      <td>7</td>\n",
       "      <td>Just got sent this photo from Ruby #Alaska as ...</td>\n",
       "      <td>1</td>\n",
       "    </tr>\n",
       "  </tbody>\n",
       "</table>\n",
       "</div>"
      ],
      "text/plain": [
       "   id                                               text  target\n",
       "0   1  Our Deeds are the Reason of this #earthquake M...       1\n",
       "1   4             Forest fire near La Ronge Sask. Canada       1\n",
       "2   5  All residents asked to 'shelter in place' are ...       1\n",
       "3   6  13,000 people receive #wildfires evacuation or...       1\n",
       "4   7  Just got sent this photo from Ruby #Alaska as ...       1"
      ]
     },
     "execution_count": 4,
     "metadata": {},
     "output_type": "execute_result"
    }
   ],
   "source": [
    "train.drop(['keyword','location'],axis=1,inplace=True)\n",
    "train.head()"
   ]
  },
  {
   "cell_type": "code",
   "execution_count": 5,
   "id": "4a9fe52e",
   "metadata": {
    "execution": {
     "iopub.execute_input": "2023-02-27T16:07:04.064310Z",
     "iopub.status.busy": "2023-02-27T16:07:04.062950Z",
     "iopub.status.idle": "2023-02-27T16:07:04.089967Z",
     "shell.execute_reply": "2023-02-27T16:07:04.088103Z"
    },
    "papermill": {
     "duration": 0.038236,
     "end_time": "2023-02-27T16:07:04.093548",
     "exception": false,
     "start_time": "2023-02-27T16:07:04.055312",
     "status": "completed"
    },
    "tags": []
   },
   "outputs": [
    {
     "name": "stdout",
     "output_type": "stream",
     "text": [
      "<class 'pandas.core.frame.DataFrame'>\n",
      "RangeIndex: 7613 entries, 0 to 7612\n",
      "Data columns (total 3 columns):\n",
      " #   Column  Non-Null Count  Dtype \n",
      "---  ------  --------------  ----- \n",
      " 0   id      7613 non-null   int64 \n",
      " 1   text    7613 non-null   object\n",
      " 2   target  7613 non-null   int64 \n",
      "dtypes: int64(2), object(1)\n",
      "memory usage: 178.6+ KB\n"
     ]
    }
   ],
   "source": [
    "train.info()"
   ]
  },
  {
   "cell_type": "code",
   "execution_count": 6,
   "id": "cc31b54f",
   "metadata": {
    "execution": {
     "iopub.execute_input": "2023-02-27T16:07:04.108123Z",
     "iopub.status.busy": "2023-02-27T16:07:04.107680Z",
     "iopub.status.idle": "2023-02-27T16:07:06.270761Z",
     "shell.execute_reply": "2023-02-27T16:07:06.269358Z"
    },
    "papermill": {
     "duration": 2.174905,
     "end_time": "2023-02-27T16:07:06.274833",
     "exception": false,
     "start_time": "2023-02-27T16:07:04.099928",
     "status": "completed"
    },
    "tags": []
   },
   "outputs": [
    {
     "name": "stdout",
     "output_type": "stream",
     "text": [
      "[nltk_data] Downloading package stopwords to /usr/share/nltk_data...\n",
      "[nltk_data]   Package stopwords is already up-to-date!\n",
      "[nltk_data] Downloading package wordnet to /usr/share/nltk_data...\n",
      "[nltk_data]   Package wordnet is already up-to-date!\n",
      "[nltk_data] Downloading package punkt to /usr/share/nltk_data...\n",
      "[nltk_data]   Package punkt is already up-to-date!\n"
     ]
    },
    {
     "data": {
      "text/plain": [
       "True"
      ]
     },
     "execution_count": 6,
     "metadata": {},
     "output_type": "execute_result"
    }
   ],
   "source": [
    "import nltk\n",
    "from nltk.corpus import stopwords\n",
    "from nltk.stem import WordNetLemmatizer\n",
    "from nltk.tokenize import word_tokenize\n",
    "import re\n",
    "\n",
    "nltk.download('stopwords')\n",
    "nltk.download('wordnet')\n",
    "nltk.download('punkt')"
   ]
  },
  {
   "cell_type": "code",
   "execution_count": 7,
   "id": "1cc8d994",
   "metadata": {
    "execution": {
     "iopub.execute_input": "2023-02-27T16:07:06.290304Z",
     "iopub.status.busy": "2023-02-27T16:07:06.289080Z",
     "iopub.status.idle": "2023-02-27T16:07:06.302931Z",
     "shell.execute_reply": "2023-02-27T16:07:06.301790Z"
    },
    "papermill": {
     "duration": 0.024428,
     "end_time": "2023-02-27T16:07:06.305570",
     "exception": false,
     "start_time": "2023-02-27T16:07:06.281142",
     "status": "completed"
    },
    "tags": []
   },
   "outputs": [
    {
     "data": {
      "text/plain": [
       "['i',\n",
       " 'me',\n",
       " 'my',\n",
       " 'myself',\n",
       " 'we',\n",
       " 'our',\n",
       " 'ours',\n",
       " 'ourselves',\n",
       " 'you',\n",
       " \"you're\",\n",
       " \"you've\",\n",
       " \"you'll\",\n",
       " \"you'd\",\n",
       " 'your',\n",
       " 'yours',\n",
       " 'yourself',\n",
       " 'yourselves',\n",
       " 'he',\n",
       " 'him',\n",
       " 'his',\n",
       " 'himself',\n",
       " 'she',\n",
       " \"she's\",\n",
       " 'her',\n",
       " 'hers',\n",
       " 'herself',\n",
       " 'it',\n",
       " \"it's\",\n",
       " 'its',\n",
       " 'itself',\n",
       " 'they',\n",
       " 'them',\n",
       " 'their',\n",
       " 'theirs',\n",
       " 'themselves',\n",
       " 'what',\n",
       " 'which',\n",
       " 'who',\n",
       " 'whom',\n",
       " 'this',\n",
       " 'that',\n",
       " \"that'll\",\n",
       " 'these',\n",
       " 'those',\n",
       " 'am',\n",
       " 'is',\n",
       " 'are',\n",
       " 'was',\n",
       " 'were',\n",
       " 'be',\n",
       " 'been',\n",
       " 'being',\n",
       " 'have',\n",
       " 'has',\n",
       " 'had',\n",
       " 'having',\n",
       " 'do',\n",
       " 'does',\n",
       " 'did',\n",
       " 'doing',\n",
       " 'a',\n",
       " 'an',\n",
       " 'the',\n",
       " 'and',\n",
       " 'but',\n",
       " 'if',\n",
       " 'or',\n",
       " 'because',\n",
       " 'as',\n",
       " 'until',\n",
       " 'while',\n",
       " 'of',\n",
       " 'at',\n",
       " 'by',\n",
       " 'for',\n",
       " 'with',\n",
       " 'about',\n",
       " 'against',\n",
       " 'between',\n",
       " 'into',\n",
       " 'through',\n",
       " 'during',\n",
       " 'before',\n",
       " 'after',\n",
       " 'above',\n",
       " 'below',\n",
       " 'to',\n",
       " 'from',\n",
       " 'up',\n",
       " 'down',\n",
       " 'in',\n",
       " 'out',\n",
       " 'on',\n",
       " 'off',\n",
       " 'over',\n",
       " 'under',\n",
       " 'again',\n",
       " 'further',\n",
       " 'then',\n",
       " 'once',\n",
       " 'here',\n",
       " 'there',\n",
       " 'when',\n",
       " 'where',\n",
       " 'why',\n",
       " 'how',\n",
       " 'all',\n",
       " 'any',\n",
       " 'both',\n",
       " 'each',\n",
       " 'few',\n",
       " 'more',\n",
       " 'most',\n",
       " 'other',\n",
       " 'some',\n",
       " 'such',\n",
       " 'no',\n",
       " 'nor',\n",
       " 'not',\n",
       " 'only',\n",
       " 'own',\n",
       " 'same',\n",
       " 'so',\n",
       " 'than',\n",
       " 'too',\n",
       " 'very',\n",
       " 's',\n",
       " 't',\n",
       " 'can',\n",
       " 'will',\n",
       " 'just',\n",
       " 'don',\n",
       " \"don't\",\n",
       " 'should',\n",
       " \"should've\",\n",
       " 'now',\n",
       " 'd',\n",
       " 'll',\n",
       " 'm',\n",
       " 'o',\n",
       " 're',\n",
       " 've',\n",
       " 'y',\n",
       " 'ain',\n",
       " 'aren',\n",
       " \"aren't\",\n",
       " 'couldn',\n",
       " \"couldn't\",\n",
       " 'didn',\n",
       " \"didn't\",\n",
       " 'doesn',\n",
       " \"doesn't\",\n",
       " 'hadn',\n",
       " \"hadn't\",\n",
       " 'hasn',\n",
       " \"hasn't\",\n",
       " 'haven',\n",
       " \"haven't\",\n",
       " 'isn',\n",
       " \"isn't\",\n",
       " 'ma',\n",
       " 'mightn',\n",
       " \"mightn't\",\n",
       " 'mustn',\n",
       " \"mustn't\",\n",
       " 'needn',\n",
       " \"needn't\",\n",
       " 'shan',\n",
       " \"shan't\",\n",
       " 'shouldn',\n",
       " \"shouldn't\",\n",
       " 'wasn',\n",
       " \"wasn't\",\n",
       " 'weren',\n",
       " \"weren't\",\n",
       " 'won',\n",
       " \"won't\",\n",
       " 'wouldn',\n",
       " \"wouldn't\"]"
      ]
     },
     "execution_count": 7,
     "metadata": {},
     "output_type": "execute_result"
    }
   ],
   "source": [
    "english_stopwords = stopwords.words('english')\n",
    "english_stopwords"
   ]
  },
  {
   "cell_type": "code",
   "execution_count": 8,
   "id": "70b3b3b7",
   "metadata": {
    "execution": {
     "iopub.execute_input": "2023-02-27T16:07:06.320982Z",
     "iopub.status.busy": "2023-02-27T16:07:06.320246Z",
     "iopub.status.idle": "2023-02-27T16:07:06.325658Z",
     "shell.execute_reply": "2023-02-27T16:07:06.324601Z"
    },
    "papermill": {
     "duration": 0.016092,
     "end_time": "2023-02-27T16:07:06.328293",
     "exception": false,
     "start_time": "2023-02-27T16:07:06.312201",
     "status": "completed"
    },
    "tags": []
   },
   "outputs": [],
   "source": [
    "from sklearn.feature_extraction.text import TfidfVectorizer\n",
    "from sklearn.model_selection import train_test_split\n",
    "from sklearn.linear_model import LogisticRegression\n",
    "from sklearn.metrics import accuracy_score, confusion_matrix, classification_report"
   ]
  },
  {
   "cell_type": "code",
   "execution_count": 9,
   "id": "8b275666",
   "metadata": {
    "execution": {
     "iopub.execute_input": "2023-02-27T16:07:06.344345Z",
     "iopub.status.busy": "2023-02-27T16:07:06.343689Z",
     "iopub.status.idle": "2023-02-27T16:07:06.605750Z",
     "shell.execute_reply": "2023-02-27T16:07:06.604251Z"
    },
    "papermill": {
     "duration": 0.274171,
     "end_time": "2023-02-27T16:07:06.609179",
     "exception": false,
     "start_time": "2023-02-27T16:07:06.335008",
     "status": "completed"
    },
    "tags": []
   },
   "outputs": [],
   "source": [
    "vec = TfidfVectorizer()\n",
    "X = vec.fit_transform(train['text'])\n",
    "y = train['target']\n",
    "x_test = vec.transform(test['text'])\n",
    "\n",
    "X_train, X_val, y_train, y_val = train_test_split(X, y, test_size=0.2, random_state=42)"
   ]
  },
  {
   "cell_type": "code",
   "execution_count": 10,
   "id": "2d994f6b",
   "metadata": {
    "execution": {
     "iopub.execute_input": "2023-02-27T16:07:06.625501Z",
     "iopub.status.busy": "2023-02-27T16:07:06.624369Z",
     "iopub.status.idle": "2023-02-27T16:07:07.050944Z",
     "shell.execute_reply": "2023-02-27T16:07:07.049361Z"
    },
    "papermill": {
     "duration": 0.439873,
     "end_time": "2023-02-27T16:07:07.056142",
     "exception": false,
     "start_time": "2023-02-27T16:07:06.616269",
     "status": "completed"
    },
    "tags": []
   },
   "outputs": [
    {
     "data": {
      "text/plain": [
       "LogisticRegression(random_state=22)"
      ]
     },
     "execution_count": 10,
     "metadata": {},
     "output_type": "execute_result"
    }
   ],
   "source": [
    "lr_model = LogisticRegression(random_state=22)\n",
    "lr_model.fit(X_train, y_train)"
   ]
  },
  {
   "cell_type": "code",
   "execution_count": 11,
   "id": "1b75185e",
   "metadata": {
    "execution": {
     "iopub.execute_input": "2023-02-27T16:07:07.092982Z",
     "iopub.status.busy": "2023-02-27T16:07:07.092212Z",
     "iopub.status.idle": "2023-02-27T16:07:07.114462Z",
     "shell.execute_reply": "2023-02-27T16:07:07.112476Z"
    },
    "papermill": {
     "duration": 0.047365,
     "end_time": "2023-02-27T16:07:07.120548",
     "exception": false,
     "start_time": "2023-02-27T16:07:07.073183",
     "status": "completed"
    },
    "tags": []
   },
   "outputs": [
    {
     "name": "stdout",
     "output_type": "stream",
     "text": [
      "Accuracy: 80.04%\n"
     ]
    }
   ],
   "source": [
    "from sklearn.metrics import accuracy_score\n",
    "y_pred = lr_model.predict(X_val)\n",
    "acc = accuracy_score(y_val, y_pred)\n",
    "\n",
    "print(\"Accuracy: {:.2f}%\".format(acc*100))"
   ]
  },
  {
   "cell_type": "code",
   "execution_count": 12,
   "id": "d4ad7386",
   "metadata": {
    "execution": {
     "iopub.execute_input": "2023-02-27T16:07:07.156003Z",
     "iopub.status.busy": "2023-02-27T16:07:07.155574Z",
     "iopub.status.idle": "2023-02-27T16:07:15.594155Z",
     "shell.execute_reply": "2023-02-27T16:07:15.592894Z"
    },
    "papermill": {
     "duration": 8.459472,
     "end_time": "2023-02-27T16:07:15.597400",
     "exception": false,
     "start_time": "2023-02-27T16:07:07.137928",
     "status": "completed"
    },
    "tags": []
   },
   "outputs": [
    {
     "name": "stdout",
     "output_type": "stream",
     "text": [
      "Accuracy: 81.16%\n"
     ]
    }
   ],
   "source": [
    "from sklearn.svm import SVC\n",
    "svm_model = SVC(random_state=22)\n",
    "svm_model.fit(X_train, y_train)\n",
    "\n",
    "y_pred = svm_model.predict(X_val)\n",
    "acc = accuracy_score(y_val, y_pred)\n",
    "\n",
    "print(\"Accuracy: {:.2f}%\".format(acc*100))"
   ]
  },
  {
   "cell_type": "code",
   "execution_count": 13,
   "id": "059cd2ec",
   "metadata": {
    "execution": {
     "iopub.execute_input": "2023-02-27T16:07:15.613781Z",
     "iopub.status.busy": "2023-02-27T16:07:15.613116Z",
     "iopub.status.idle": "2023-02-27T16:07:24.811745Z",
     "shell.execute_reply": "2023-02-27T16:07:24.810120Z"
    },
    "papermill": {
     "duration": 9.210096,
     "end_time": "2023-02-27T16:07:24.814944",
     "exception": false,
     "start_time": "2023-02-27T16:07:15.604848",
     "status": "completed"
    },
    "tags": []
   },
   "outputs": [],
   "source": [
    "from keras.models import Sequential\n",
    "from keras.layers import Dense, Dropout\n",
    "from keras.optimizers import Adam"
   ]
  },
  {
   "cell_type": "code",
   "execution_count": 14,
   "id": "c46edf05",
   "metadata": {
    "execution": {
     "iopub.execute_input": "2023-02-27T16:07:24.830921Z",
     "iopub.status.busy": "2023-02-27T16:07:24.830000Z",
     "iopub.status.idle": "2023-02-27T16:07:25.184932Z",
     "shell.execute_reply": "2023-02-27T16:07:25.183369Z"
    },
    "papermill": {
     "duration": 0.368363,
     "end_time": "2023-02-27T16:07:25.190150",
     "exception": false,
     "start_time": "2023-02-27T16:07:24.821787",
     "status": "completed"
    },
    "tags": []
   },
   "outputs": [
    {
     "name": "stdout",
     "output_type": "stream",
     "text": [
      "Model: \"sequential\"\n",
      "_________________________________________________________________\n",
      " Layer (type)                Output Shape              Param #   \n",
      "=================================================================\n",
      " dense (Dense)               (None, 512)               11078656  \n",
      "                                                                 \n",
      " dropout (Dropout)           (None, 512)               0         \n",
      "                                                                 \n",
      " dense_1 (Dense)             (None, 256)               131328    \n",
      "                                                                 \n",
      " dropout_1 (Dropout)         (None, 256)               0         \n",
      "                                                                 \n",
      " dense_2 (Dense)             (None, 1)                 257       \n",
      "                                                                 \n",
      "=================================================================\n",
      "Total params: 11,210,241\n",
      "Trainable params: 11,210,241\n",
      "Non-trainable params: 0\n",
      "_________________________________________________________________\n"
     ]
    }
   ],
   "source": [
    "model = Sequential()\n",
    "\n",
    "# now we can add layers to our model\n",
    "model.add(Dense(512, input_shape=(X_train.shape[1],), activation='relu'))# input layer\n",
    "model.add(Dropout(0.5)) #to avoid overfitting\n",
    "model.add(Dense(256, activation='relu')) # hidden layer\n",
    "model.add(Dropout(0.5))# to avoid overfitting\n",
    "model.add(Dense(1, activation='sigmoid'))# output layer\n",
    "\n",
    "model.compile(loss='binary_crossentropy', optimizer=Adam(learning_rate=0.0001), metrics=['accuracy']) # compile the model\n",
    "\n",
    "model.summary()"
   ]
  },
  {
   "cell_type": "code",
   "execution_count": 15,
   "id": "57c9b664",
   "metadata": {
    "execution": {
     "iopub.execute_input": "2023-02-27T16:07:25.208118Z",
     "iopub.status.busy": "2023-02-27T16:07:25.207706Z",
     "iopub.status.idle": "2023-02-27T16:08:58.319947Z",
     "shell.execute_reply": "2023-02-27T16:08:58.317994Z"
    },
    "papermill": {
     "duration": 93.125606,
     "end_time": "2023-02-27T16:08:58.323531",
     "exception": false,
     "start_time": "2023-02-27T16:07:25.197925",
     "status": "completed"
    },
    "tags": []
   },
   "outputs": [
    {
     "name": "stdout",
     "output_type": "stream",
     "text": [
      "(6090, 21637)\n",
      "(6090,)\n",
      "Epoch 1/10\n",
      "153/153 [==============================] - 10s 63ms/step - loss: 0.6867 - accuracy: 0.5632 - val_loss: 0.6770 - val_accuracy: 0.5616\n",
      "Epoch 2/10\n",
      "153/153 [==============================] - 9s 58ms/step - loss: 0.6447 - accuracy: 0.6129 - val_loss: 0.6088 - val_accuracy: 0.6987\n",
      "Epoch 3/10\n",
      "153/153 [==============================] - 9s 58ms/step - loss: 0.4972 - accuracy: 0.8208 - val_loss: 0.4839 - val_accuracy: 0.7841\n",
      "Epoch 4/10\n",
      "153/153 [==============================] - 9s 60ms/step - loss: 0.3215 - accuracy: 0.8959 - val_loss: 0.4541 - val_accuracy: 0.7997\n",
      "Epoch 5/10\n",
      "153/153 [==============================] - 9s 59ms/step - loss: 0.2155 - accuracy: 0.9319 - val_loss: 0.4680 - val_accuracy: 0.7947\n",
      "Epoch 6/10\n",
      "153/153 [==============================] - 9s 58ms/step - loss: 0.1481 - accuracy: 0.9553 - val_loss: 0.4909 - val_accuracy: 0.7915\n",
      "Epoch 7/10\n",
      "153/153 [==============================] - 9s 58ms/step - loss: 0.1006 - accuracy: 0.9713 - val_loss: 0.5170 - val_accuracy: 0.7906\n",
      "Epoch 8/10\n",
      "153/153 [==============================] - 9s 60ms/step - loss: 0.0720 - accuracy: 0.9828 - val_loss: 0.5464 - val_accuracy: 0.7956\n",
      "Epoch 9/10\n",
      "153/153 [==============================] - 9s 59ms/step - loss: 0.0497 - accuracy: 0.9901 - val_loss: 0.5741 - val_accuracy: 0.7923\n",
      "Epoch 10/10\n",
      "153/153 [==============================] - 9s 59ms/step - loss: 0.0386 - accuracy: 0.9914 - val_loss: 0.6017 - val_accuracy: 0.7767\n"
     ]
    }
   ],
   "source": [
    "x_data = X_train.toarray() # convert sparse matrix to dense matrix \n",
    "y_data = y_train.to_numpy() # convert pandas series to numpy array for keras input \n",
    "print(x_data.shape)\n",
    "print(y_data.shape)\n",
    "\n",
    "history = model.fit(x_data, y_data, epochs=10, batch_size=32, validation_split=0.2)"
   ]
  },
  {
   "cell_type": "code",
   "execution_count": 16,
   "id": "a576bc63",
   "metadata": {
    "execution": {
     "iopub.execute_input": "2023-02-27T16:08:58.535205Z",
     "iopub.status.busy": "2023-02-27T16:08:58.534809Z",
     "iopub.status.idle": "2023-02-27T16:08:58.791793Z",
     "shell.execute_reply": "2023-02-27T16:08:58.790471Z"
    },
    "papermill": {
     "duration": 0.367236,
     "end_time": "2023-02-27T16:08:58.794317",
     "exception": false,
     "start_time": "2023-02-27T16:08:58.427081",
     "status": "completed"
    },
    "tags": []
   },
   "outputs": [
    {
     "data": {
      "image/png": "[encoded data removed]",
      "text/plain": [
       "<Figure size 640x480 with 1 Axes>"
      ]
     },
     "metadata": {},
     "output_type": "display_data"
    }
   ],
   "source": [
    "#ploting the accuracy and loss\n",
    "plt.plot(history.history['accuracy'])\n",
    "plt.plot(history.history['val_accuracy'])\n",
    "plt.title('Model Accuracy')\n",
    "plt.ylabel('Accuracy')\n",
    "plt.xlabel('Epoch')\n",
    "plt.legend(['Train', 'Val'], loc='upper left')\n",
    "plt.show()"
   ]
  },
  {
   "cell_type": "code",
   "execution_count": 17,
   "id": "86801ede",
   "metadata": {
    "execution": {
     "iopub.execute_input": "2023-02-27T16:08:59.008353Z",
     "iopub.status.busy": "2023-02-27T16:08:59.007587Z",
     "iopub.status.idle": "2023-02-27T16:09:01.532512Z",
     "shell.execute_reply": "2023-02-27T16:09:01.530873Z"
    },
    "papermill": {
     "duration": 2.637584,
     "end_time": "2023-02-27T16:09:01.536228",
     "exception": false,
     "start_time": "2023-02-27T16:08:58.898644",
     "status": "completed"
    },
    "tags": []
   },
   "outputs": [
    {
     "name": "stdout",
     "output_type": "stream",
     "text": [
      "102/102 [==============================] - 2s 15ms/step\n"
     ]
    }
   ],
   "source": [
    "#submission\n",
    "y_pred = model.predict(x_test.toarray())\n",
    "y_pred = np.round(y_pred).astype(int).reshape(3263)\n",
    "submission = pd.DataFrame({'id':test['id'],'target':y_pred})\n",
    "submission.to_csv('submission.csv',index=False)"
   ]
  },
  {
   "cell_type": "code",
   "execution_count": 18,
   "id": "9994ac25",
   "metadata": {
    "execution": {
     "iopub.execute_input": "2023-02-27T16:09:01.758469Z",
     "iopub.status.busy": "2023-02-27T16:09:01.757095Z",
     "iopub.status.idle": "2023-02-27T16:09:02.875849Z",
     "shell.execute_reply": "2023-02-27T16:09:02.874406Z"
    },
    "papermill": {
     "duration": 1.234,
     "end_time": "2023-02-27T16:09:02.879239",
     "exception": false,
     "start_time": "2023-02-27T16:09:01.645239",
     "status": "completed"
    },
    "tags": []
   },
   "outputs": [],
   "source": [
    "#save the model\n",
    "model.save('model.h5')\n",
    "#load the model\n",
    "from keras.models import load_model\n",
    "model = load_model('model.h5')\n"
   ]
  },
  {
   "cell_type": "code",
   "execution_count": 19,
   "id": "fba918dd",
   "metadata": {
    "execution": {
     "iopub.execute_input": "2023-02-27T16:09:03.098672Z",
     "iopub.status.busy": "2023-02-27T16:09:03.098223Z",
     "iopub.status.idle": "2023-02-27T16:09:05.781451Z",
     "shell.execute_reply": "2023-02-27T16:09:05.780353Z"
    },
    "papermill": {
     "duration": 2.798615,
     "end_time": "2023-02-27T16:09:05.784781",
     "exception": false,
     "start_time": "2023-02-27T16:09:02.986166",
     "status": "completed"
    },
    "tags": []
   },
   "outputs": [
    {
     "name": "stdout",
     "output_type": "stream",
     "text": [
      "102/102 [==============================] - 2s 17ms/step\n"
     ]
    }
   ],
   "source": [
    "#predict the test data\n",
    "y_pred = model.predict(x_test.toarray())\n",
    "y_pred = np.round(y_pred).astype(int).reshape(3263)\n",
    "submission = pd.DataFrame({'id':test['id'],'target':y_pred})\n",
    "submission.to_csv('submission2.csv',index=False)"
   ]
  },
  {
   "cell_type": "code",
   "execution_count": null,
   "id": "c436694e",
   "metadata": {
    "papermill": {
     "duration": 0.109411,
     "end_time": "2023-02-27T16:09:06.014020",
     "exception": false,
     "start_time": "2023-02-27T16:09:05.904609",
     "status": "completed"
    },
    "tags": []
   },
   "outputs": [],
   "source": []
  }
 ],
 "metadata": {
  "kernelspec": {
   "display_name": "Python 3",
   "language": "python",
   "name": "python3"
  },
  "language_info": {
   "codemirror_mode": {
    "name": "ipython",
    "version": 3
   },
   "file_extension": ".py",
   "mimetype": "text/x-python",
   "name": "python",
   "nbconvert_exporter": "python",
   "pygments_lexer": "ipython3",
   "version": "3.7.12"
  },
  "papermill": {
   "default_parameters": {},
   "duration": 135.877926,
   "end_time": "2023-02-27T16:09:08.758983",
   "environment_variables": {},
   "exception": null,
   "input_path": "__notebook__.ipynb",
   "output_path": "__notebook__.ipynb",
   "parameters": {},
   "start_time": "2023-02-27T16:06:52.881057",
   "version": "2.4.0"
  }
 },
 "nbformat": 4,
 "nbformat_minor": 5
}
